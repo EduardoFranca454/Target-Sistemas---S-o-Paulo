{
 "cells": [
  {
   "cell_type": "markdown",
   "id": "a50595c0",
   "metadata": {},
   "source": [
    "1) Observe o trecho de código abaixo: int INDICE = 13, SOMA = 0, K = 0;\n",
    "Enquanto K < INDICE faça { K = K + 1; SOMA = SOMA + K; }\n",
    "Imprimir(SOMA);\n",
    "Ao final do processamento, qual será o valor da variável SOMA?\n"
   ]
  },
  {
   "cell_type": "code",
   "execution_count": 6,
   "id": "b578cd11",
   "metadata": {},
   "outputs": [
    {
     "name": "stdout",
     "output_type": "stream",
     "text": [
      "Ao final do processamento, o valor da variável \"soma\" será 91.\n"
     ]
    }
   ],
   "source": [
    "indice = 13\n",
    "soma = 0\n",
    "k = 0\n",
    "\n",
    "while k < indice:\n",
    "    k += 1\n",
    "    soma +=  k\n",
    "print(f'Ao final do processamento, o valor da variável \"soma\" será {soma}.')"
   ]
  },
  {
   "cell_type": "markdown",
   "id": "0d6922bb",
   "metadata": {},
   "source": [
    "2) Dado a sequência de Fibonacci, onde se inicia por 0 e 1 e o próximo valor sempre será a soma dos 2 valores anteriores (exemplo: 0, 1, 1, 2, 3, 5, 8, 13, 21, 34...), escreva um programa na linguagem que desejar onde, informado um número, ele calcule a sequência de Fibonacci e retorne uma mensagem avisando se o número informado pertence ou não a sequência.\n",
    "\n",
    "IMPORTANTE: Esse número pode ser informado através de qualquer entrada de sua preferência ou pode ser previamente definido no código;"
   ]
  },
  {
   "cell_type": "code",
   "execution_count": 21,
   "id": "61811236",
   "metadata": {},
   "outputs": [
    {
     "name": "stdout",
     "output_type": "stream",
     "text": [
      "Informe um número: 514229\n",
      "O número 514,229 pertence à Sequência de Fibonacci.\n"
     ]
    }
   ],
   "source": [
    "# Variáveis Auxiliares.\n",
    "lista_auxiliar = [0, 1]\n",
    "i = 0\n",
    "\n",
    "valor_informado = int(input('Informe um número: '))\n",
    "\n",
    "# Essa condição no while tem o intuito de fazer o looping não rodar desnecessariamente, ou seja, quando a sequência de Fibonacci passar pelo número informado, já conseguimos saber se o valor informado está contido na sequência ou não.   \n",
    "while valor_informado > max(lista_auxiliar):\n",
    "    lista_auxiliar.append(lista_auxiliar[i] + lista_auxiliar[i+1])\n",
    "    i += 1\n",
    "\n",
    "# Verificando se o valor informado está contido na sequência de Fibonacci.\n",
    "if valor_informado in lista_auxiliar:\n",
    "    print(f'O número {valor_informado:,} pertence à Sequência de Fibonacci.')\n",
    "else:\n",
    "    print(f'O número {valor_informado:,} não pertence à Sequência de Fibonacci.')"
   ]
  },
  {
   "cell_type": "markdown",
   "id": "836b776d",
   "metadata": {},
   "source": [
    "3) Dado um vetor que guarda o valor de faturamento diário de uma distribuidora, faça um programa, na linguagem que desejar, que calcule e retorne:\n",
    "• O menor valor de faturamento ocorrido em um dia do mês;\n",
    "• O maior valor de faturamento ocorrido em um dia do mês;\n",
    "• Número de dias no mês em que o valor de faturamento diário foi superior à média mensal.\n",
    "\n",
    "IMPORTANTE:\n",
    " - a) Usar o json ou xml disponível como fonte dos dados do faturamento mensal;\n",
    " - b) Podem existir dias sem faturamento, como nos finais de semana e feriados. Estes dias devem ser ignorados no cálculo da média;"
   ]
  },
  {
   "cell_type": "markdown",
   "id": "1cf4f4c1",
   "metadata": {},
   "source": [
    "#### Comentário\n",
    " - Gostaria de fazer uma explicação antes de começar o exercício 3. \n",
    "De acordo com a alternativa A, devo utilizar o \"json ou xml disponível como fonte dos dados\" para resolver esse exercício, mas não encontrei onde esse determinado arquivo foi disponibilizado. Tentei entrar em contato para sanar essa dúvida mas acabei não tendo retorno. E no intuito de elaborar um teste que atinja todos os critérios da empresa e que mostre minhas capacidades técnicas sobre o assunto, optei por fazer a atividade utilizando uma estrutura de armazenamento de dados muito similar ao Json, que é o dicionário em Python.\n",
    "\n",
    "- Gostaria de me desculpar de antemão pelo ocorrido, e espero que essa forma de elaboração se assemelhe à desejada pela empresa.  "
   ]
  },
  {
   "cell_type": "code",
   "execution_count": 118,
   "id": "d8ecb0a4",
   "metadata": {},
   "outputs": [
    {
     "name": "stdout",
     "output_type": "stream",
     "text": [
      "- O MENOR valor de faturamento ocorrido no mês foi no dia 22, onde o faturamento foi de R$1,030.\n",
      "- O MAIOR valor de faturamento ocorrido no mês foi no dia 11, onde o faturamento foi de R$3,000.\n",
      "- Durante esse mês, tivemos 11 dias em que o faturamento diário foi superior à média mensal. \n"
     ]
    }
   ],
   "source": [
    "# Resposta 3.\n",
    "\n",
    "# Dicionário \"faturamento\" servirá como base de dados, substituindo o Json.\n",
    "# Os elementos que possuem valores diferente de 0, são os dias da semana. Os elementos que possuem valores igual a 0, são os finais de semana.  \n",
    "faturamento = {\n",
    "    'dia 1' : 1485,\n",
    "    'dia 2' : 2755,\n",
    "    'dia 3' : 2150,\n",
    "    'dia 4' : 2985,\n",
    "    'dia 5' : 2385,\n",
    "    'dia 6' : 0,\n",
    "    'dia 7' : 0,\n",
    "    'dia 8' : 2900,\n",
    "    'dia 9' : 2750,\n",
    "    'dia 10' : 2800,\n",
    "    'dia 11': 3000,\n",
    "    'dia 12' : 1300,\n",
    "    'dia 13' : 0,\n",
    "    'dia 14' : 0,\n",
    "    'dia 15' : 2700,\n",
    "    'dia 16': 1980,\n",
    "    'dia 17': 2500,\n",
    "    'dia 18': 1960,\n",
    "    'dia 19': 1450,\n",
    "    'dia 20':  0,\n",
    "    'dia 21':  0,\n",
    "    'dia 22': 1030,\n",
    "    'dia 23': 2575,\n",
    "    'dia 24': 1140,\n",
    "    'dia 25': 1990,\n",
    "    'dia 26': 2355,\n",
    "    'dia 27': 0,\n",
    "    'dia 28': 0,\n",
    "    'dia 29': 2100,\n",
    "    'dia 30': 2200  \n",
    "}\n",
    "\n",
    "# CÓDIGO FONTE:\n",
    "\n",
    "# Vaviráveis auxiliares\n",
    "menor_valor = 1_000_000\n",
    "maior_valor = 0\n",
    "lista_aux = []\n",
    "\n",
    "for item in faturamento.items():\n",
    "    # tirar os valores nulos do banco de dados\n",
    "    if item[1] != 0:\n",
    "        # encontrar o menor valor\n",
    "        if item[1] < menor_valor:\n",
    "            menor_valor = item[1]\n",
    "            dia_menor_valor = item[0]\n",
    "        # encontrar o maior valor    \n",
    "        if item[1] > maior_valor:\n",
    "            maior_valor = item[1]\n",
    "            dia_maior_valor = item[0]\n",
    "        # encontrar quantos dias o faturamento diário foi maior do que a média mensal    \n",
    "        lista_aux.append(item[1])\n",
    "        media_mensal = sum(lista_aux) / len(lista_aux)\n",
    "i = 0\n",
    "for item in faturamento.items():\n",
    "    if item[1] > media_mensal:\n",
    "        i += 1\n",
    "        \n",
    "print(f'- O MENOR valor de faturamento ocorrido no mês foi no {dia_menor_valor}, onde o faturamento foi de R${menor_valor:,}.')\n",
    "print(f'- O MAIOR valor de faturamento ocorrido no mês foi no {dia_maior_valor}, onde o faturamento foi de R${maior_valor:,}.')\n",
    "print(f'- Durante esse mês, tivemos {i} dias em que o faturamento diário foi superior à média mensal. ')\n"
   ]
  },
  {
   "cell_type": "raw",
   "id": "a47717b0",
   "metadata": {},
   "source": [
    "4) Dado o valor de faturamento mensal de uma distribuidora, detalhado por estado:\n",
    "• SP – R$67.836,43\n",
    "• RJ – R$36.678,66\n",
    "• MG – R$29.229,88\n",
    "• ES – R$27.165,48\n",
    "• Outros – R$19.849,53\n",
    "\n",
    "Escreva um programa na linguagem que desejar onde calcule o percentual de representação que cada estado teve dentro do valor total mensal da distribuidora.  "
   ]
  },
  {
   "cell_type": "code",
   "execution_count": 186,
   "id": "cca19285",
   "metadata": {},
   "outputs": [
    {
     "name": "stdout",
     "output_type": "stream",
     "text": [
      "Percentual de representação que cada estado:\n",
      "SP: 37.53%\n",
      "RJ: 20.29%\n",
      "MG: 16.17%\n",
      "ES: 15.03%\n",
      "Outros: 10.98%\n"
     ]
    }
   ],
   "source": [
    "# Informações do enunciado\n",
    "faturamento_mensal = {\n",
    "'SP': 67836.43,\n",
    "'RJ': 36678.66,\n",
    "'MG': 29229.88,\n",
    "'ES': 27165.48,\n",
    "'Outros': 19849.53\n",
    "}\n",
    "\n",
    "total_mensal = 0\n",
    "for item in faturamento_mensal.items():\n",
    "    total_mensal += item[1]\n",
    "\n",
    "print('Percentual de representação que cada estado:')    \n",
    "for item in faturamento_mensal.items():\n",
    "    print(f'{item[0]}: {item[1] / total_mensal:.2%}')"
   ]
  },
  {
   "cell_type": "raw",
   "id": "da477acd",
   "metadata": {},
   "source": [
    "5) Escreva um programa que inverta os caracteres de um string.\n",
    "\n",
    "IMPORTANTE:\n",
    "a) Essa string pode ser informada através de qualquer entrada de sua preferência ou pode ser previamente definida no código;\n",
    "b) Evite usar funções prontas, como, por exemplo, reverse;"
   ]
  },
  {
   "cell_type": "code",
   "execution_count": 273,
   "id": "c6f52c0e",
   "metadata": {},
   "outputs": [
    {
     "name": "stdout",
     "output_type": "stream",
     "text": [
      "Informe um texto: Eduardo França\n",
      "açnarF odraudE\n",
      "açnarF odraudE\n"
     ]
    }
   ],
   "source": [
    "texto = input('Informe um texto: ')\n",
    "\n",
    "# Primeiro método de inversão:\n",
    "print(texto[::-1]) \n",
    "\n",
    "# Segundo método de inversão: \n",
    "texto_contrario = ''\n",
    "for caractere in texto:\n",
    "    texto_contrario = caractere + texto_contrario\n",
    "print(texto_contrario)"
   ]
  }
 ],
 "metadata": {
  "kernelspec": {
   "display_name": "Python 3 (ipykernel)",
   "language": "python",
   "name": "python3"
  },
  "language_info": {
   "codemirror_mode": {
    "name": "ipython",
    "version": 3
   },
   "file_extension": ".py",
   "mimetype": "text/x-python",
   "name": "python",
   "nbconvert_exporter": "python",
   "pygments_lexer": "ipython3",
   "version": "3.11.5"
  }
 },
 "nbformat": 4,
 "nbformat_minor": 5
}
